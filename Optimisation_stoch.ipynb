{
 "cells": [
  {
   "cell_type": "markdown",
   "metadata": {
    "id": "HxBqwN_ClPtq"
   },
   "source": [
    "# Electrical Power Generation Problem - UC\n",
    "\n",
    "## Objective and Prerequisites\n",
    "\n",
    "This model is an example of an electrical power generation problem (also known as a unit commitment problem). It selects an optimal set of power stations to turn on in order to satisfy anticipated power demand over a 24-hour time horizon.  This example is modified by W. de Oliveira (www.oliveira.mat.br). The goal is to extend the basic model to a stochastic setting, using a probability constraints.\n",
    "\n",
    "The basic model is example 16 from the fifth edition of Model Building in Mathematical Programming, by H. Paul Williams on pages 271-272 and 326-327.\n",
    "\n",
    "\n",
    "\n",
    "\n",
    "---\n",
    "## Problem Description\n",
    "\n",
    "In this problem, thermal power generation units are grouped into three distinct types, with different characteristics for each type (power output, cost per megawatt hour, startup cost, etc.).  A unit can be on or off, with a startup cost associated with transitioning from off to on, and power output that can fall anywhere between a specified minimum and maximum value when the unit is on.  There are also two hydroelectric plants available, also with different cost and power generation characteristics.  A 24-hour time horizon is divided into 5 discrete time periods. Except for the first period, which is assumed detetministic,  total power demand is random. Given a possible realization of the random vector of power demand, the basic model decides which units to turn on, and when, in order to satisfy the *given demand* for each time period.  The model also captures a reserve requirement, where the selected power plants must be capable of increasing their output, while still respecting their maximum output, in order to cope with the situation where actual demand exceeds predicted demand.\n",
    "\n",
    "A set of generators is available to satisfy power demand for the following day.  The average demand is as follows:\n",
    "\n",
    "| Time Period | Avg Demand (megawatts) |\n",
    "| --- | --- |\n",
    "| 12 pm to 6 am | 15000 |\n",
    "| 6 am to 9 am | 30000 |\n",
    "| 9 am to 3 pm | 25000 |\n",
    "| 3 pm to 6 pm | 40000 |\n",
    "| 6 pm to 12 pm | 27000 |\n",
    "\n",
    "Thermal generators are grouped into three types, with the following minimum and maximum output for each type (when they are on):\n",
    "\n",
    "| Type | Number available | Minimum output (MW) | Maximum output (MW) |\n",
    "| --- | --- | --- | --- |\n",
    "| 0 | 12 |  850 | 2000 |\n",
    "| 1 | 10 | 1250 | 1750 |\n",
    "| 2 | 5 | 1500 | 4000 |\n",
    "\n",
    "There are costs associated with using a thermal generator: a cost per hour when the generator is on (and generating its minimum output), a cost per megawatt hour above its minimum, and a startup cost for turning a generator on:\n",
    "\n",
    "| Type | Cost per hour (when on) | Cost per MWh above minimum | Startup cost |\n",
    "| --- | --- | --- | --- |\n",
    "| 0 | $\\$1000$ | $\\$2.00$ | $\\$2000$ |\n",
    "| 1 | $\\$2600$ | $\\$1.30$ | $\\$1000$ |\n",
    "| 2 | $\\$3000$ | $\\$3.00$ | $\\$500$ |\n",
    "\n",
    "Two hydroelectric generators are also available, each with a fixed power output (when on):\n",
    "\n",
    "| Hydro plant | Output (MW) |\n",
    "| --- | --- |\n",
    "| A | 900 |\n",
    "| B | 1400 |\n",
    "\n",
    "The costs associated with using a hydro plant are slightly different.  There's an hourly cost, but it is much smaller than the hourly cost of a thermal generator.  The real cost for a hydroelectric plant comes from depletion of the water in the reservoir, which happens at different rates for the two units.  The reservoir must be replenished before the end of the time horizon by pumping water into it, which consumes electricity.  A hydroelectric plant also has a startup cost.\n",
    "\n",
    "| Hydro plant | Cost per hour (when on) | Startup cost | Reservoir depth reduction (m/hr) |\n",
    "| --- | --- | --- | --- |\n",
    "| A | $\\$90$ | $\\$1500$ | 0.31 |\n",
    "| B | $\\$150$ | $\\$1200$ | 0.47 |\n",
    "\n",
    "Pumping water into the reservoir consumes electricity at a rate of 3000 MWh of electricity per meter of height.  The height of the reservoir at the end of the time horizon must be equal to the height at the beginning.\n",
    "\n",
    "\n",
    "---\n",
    "## Model Formulation: Desterministic Setting\n",
    "Given a scenario demand, i.e., a possible realization of the future random demand, the question we wish to answer is: \n",
    "which generators should be committed to meet anticipated demand in order to minimize total cost?\n",
    "\n",
    "### Sets and Indices\n",
    "\n",
    "$t \\in \\text{Types}=\\{0,1,2\\}$: Types of thermal generators.\n",
    "\n",
    "$h \\in \\text{HydroUnits}=\\{0,1\\}$: Two hydro generators.\n",
    "\n",
    "$p \\in \\text{Periods}=\\{0,1,2,3,4\\}$: Time periods.\n",
    "\n",
    "### Parameters\n",
    "\n",
    "$\\text{period_hours}_{p} \\in \\mathbb{N}^+$: Number of hours in each time period.\n",
    "\n",
    "$\\text{demand}_p \\in \\mathbb{R}^+$: Total power demand for time period $p$.\n",
    "\n",
    "$\\text{generators}_t \\in \\mathbb{N}^+$: Number of thermal generators of type $t$.\n",
    "\n",
    "$\\text{start0} \\in \\mathbb{N}^+$: Number of thermal generators that are on at the beginning of the time horizon (and available in time period 0 without paying a startup cost).\n",
    "\n",
    "$\\text{min_output}_t \\in \\mathbb{R}^+$: Minimum output for thermal generator type $t$ (when on).\n",
    "\n",
    "$\\text{max_output}_t \\in \\mathbb{R}^+$: Maximum output for thermal generator type $t$.\n",
    "\n",
    "$\\text{base_cost}_t \\in \\mathbb{R}^+$: Minimum operating cost (per hour) for a thermal generator of type $t$.\n",
    "\n",
    "$\\text{per_mw_cost}_t \\in \\mathbb{R}^+$: Cost to generate one additional MW (per hour) for a thermal generator of type $t$.\n",
    "\n",
    "$\\text{startup_cost}_t \\in \\mathbb{R}^+$: Startup cost for thermal generator of type $t$.\n",
    "\n",
    "$\\text{hydro_load}_h \\in \\mathbb{R}^+$: Output for hydro generator $h$.\n",
    "\n",
    "$\\text{hydro_cost}_h \\in \\mathbb{R}^+$: Cost for operating hydro generator $h$.\n",
    "\n",
    "$\\text{hydro_startup_cost}_h \\in \\mathbb{R}^+$: Startup cost for hydro generator $h$.\n",
    "\n",
    "$\\text{hydro_height_reduction}_h \\in \\mathbb{R}^+$: Hourly reduction in reservoir height from operating hydro generator $h$.\n",
    "\n",
    "### Decision Variables\n",
    "\n",
    "$\\text{ngen}_{t,p} \\in \\mathbb{N}^+$: Number of thermal generators of type $t$ that are on in time period $p$.\n",
    "\n",
    "$\\text{output}_{t,p} \\in \\mathbb{R}^+$: Total power output from thermal generators of type $t$ in time period $p$.\n",
    "\n",
    "$\\text{nstart}_{t,p} \\in \\mathbb{N}^+$: Number of thermal generators of type $t$ to start in time period $p$.\n",
    "\n",
    "$\\text{hydro}_{h,p} \\in [0,1]$: Indicates whether hydro generators $h$ is on in time period $p$.\n",
    "\n",
    "$\\text{hydro_start}_{h,p} \\in [0,1]$: Indicates whether hydro generator $h$ starts in time period $p$.\n",
    "\n",
    "$\\text{height}_{p} \\in \\mathbb{R}^+$: Height of reservoir in time period $p$.\n",
    "\n",
    "$\\text{pumping}_{p} \\in \\mathbb{R}^+$: Power used to replenish reservoir in time period $p$.\n",
    "\n",
    "\n",
    "### Objective Function\n",
    "\n",
    "- **Cost**: Minimize the cost (in USD) to satisfy the predicted electricity demand.\n",
    "\n",
    "\\begin{equation}\n",
    "\\text{Minimize} \\quad Z_{on} + Z_{extra} + Z_{startup} + Z_{hydro} + Z_{hydro\\_startup}\n",
    "\\end{equation}\n",
    "\n",
    "\\begin{equation}\n",
    "Z_{on} = \\sum_{(t,p) \\in \\text{Types} \\times \\text{Periods}}{\\text{base_cost}_t*\\text{ngen}_{t,p}}\n",
    "\\end{equation}\n",
    "\\begin{equation}\n",
    "Z_{extra} = \\sum_{(t,p) \\in \\text{Types} \\times \\text{Periods}}{\\text{per_mw_cost}_t*(\\text{output}_{t,p} - \\text{min_load}_t})\n",
    "\\end{equation}\n",
    "\\begin{equation}\n",
    "Z_{startup} = \\sum_{(t,p) \\in \\text{Types} \\times \\text{Periods}}{\\text{startup_cost}_t*\\text{nstart}_{t,p}}\n",
    "\\end{equation}\n",
    "\\begin{equation}\n",
    "Z_{hydro} = \\sum_{(h,p) \\in \\text{HydroUnits} \\times \\text{Periods}}{\\text{hydro_cost}_h*\\text{hydro}_{h,p}}\n",
    "\\end{equation}\n",
    "\\begin{equation}\n",
    "Z_{hydro\\_startup} = \\sum_{(h,p) \\in \\text{HydroUnits} \\times \\text{Periods}}{\\text{hydro_startup_cost}_h*\\text{hydro_start}_{h,p}}\n",
    "\\end{equation}\n",
    "\n",
    "\n",
    "### Constraints\n",
    "\n",
    "- **Available generators** (SetCons \\#1): Number of generators used must be less than or equal to the number available.\n",
    "\n",
    "\\begin{equation}\n",
    "\\text{ngen}_{t,p} \\leq \\text{generators}_t  \\quad \\forall (t,p) \\in \\text{Types} \\times \\text{Periods}\n",
    "\\end{equation}\n",
    "\n",
    "- **Min/max generation** (SetCons \\#2): Power generation must respect thermal generator min/max values.\n",
    "\n",
    "\\begin{equation}\n",
    "\\text{output}_{t,p} \\geq \\text{min_output}_t*\\text{ngen}_{t,p} \\quad \\forall (t,p) \\in \\text{Types} \\times \\text{Periods}\n",
    "\\end{equation}\n",
    "\n",
    "\\begin{equation}\n",
    "\\text{output}_{t,p} \\leq \\text{max_output}_t*\\text{ngen}_{t,p} \\quad \\forall (t,p) \\in \\text{Types} \\times \\text{Periods}\n",
    "\\end{equation}\n",
    "\n",
    "\n",
    "- **Thermal startup** (SetCons \\#3): Establish relationship between number of active thermal generators and number of startups (use $start0$ for period before the time horizon starts)\n",
    "\n",
    "\\begin{equation}\n",
    "\\text{ngen}_{t,p} \\leq \\text{ngen}_{t,p-1} + \\text{nstart}_{t,p} \\quad \\forall (t,p) \\in \\text{Types} \\times \\text{Periods}\n",
    "\\end{equation}\n",
    "\n",
    "- **Hydro startup** (SetCons \\#4): Establish relationship between hydro generator state and number of hydro startups (assume hydro plants are off at the beginning of the horizon)\n",
    "\n",
    "\\begin{equation}\n",
    "\\text{hydro}_{h,p} \\leq \\text{hydro}_{h,p-1} + \\text{hydro_start}_{h,p} \\quad \\forall (h,p) \\in \\text{HydroUnits} \\times \\text{Periods}\n",
    "\\end{equation}\n",
    "\n",
    "- **Reservoir height** (SetCons \\#5): Track reservoir height.   Note that the height at the end of the final time period must equal the height at the beginning of the first.\n",
    "\n",
    "- Reservoir level constraints: Height increases due to pumping activity and decreases due to hydroelectric generation.\n",
    "\n",
    "\\begin{equation}\n",
    "\\text{height}_{p} = \\text{height}_{p-1}  + \\text{period_hours}_{p}*\\text{pumping}_{p}/3000 -\n",
    "\\sum_{h \\in \\text{HydroUnits}}{\\text{period_hours}_{p}*\\text{hydro_height_reduction}_{h}*\\text{hydro}_{h,p}} \\quad \\forall p \\in \\text{Periods}\n",
    "\\end{equation}\n",
    "\n",
    "- Cyclic constraint: Height at the first period must be equal to height at the last period.\n",
    "\n",
    "\\begin{equation}\n",
    "\\text{height}_{pfirst} = \\text{height}_{plast}  + \\text{period_hours}_{pfirst}*\\text{pumping}_{pfirst}/3000 -\n",
    "\\sum_{h \\in \\text{HydroUnits}}{\\text{period_hours}_{pfirst}*\\text{hydro_height_reduction}_{h}*\\text{hydro}_{h,pfirst}}\n",
    "\\end{equation}\n",
    "\n",
    "\n",
    "- **Demand** (SetCons \\#6): Total power generated across all generator types must meet the given demand scenario plus pumping for each time period $p$.\n",
    "\n",
    "\\begin{equation}\n",
    "\\sum_{t \\in \\text{Types}}{\\text{output}_{t,p}} +\n",
    "\\sum_{h \\in \\text{HydroUnits}}{\\text{hydro_load}_h*\\text{hydro}_{h,p}} \\geq\n",
    "\\text{demand}_p + \\text{pumping}_p \\quad \\forall p \\in \\text{Periods}\n",
    "\\end{equation}\n",
    "\n",
    "---\n",
    "## Python Implementation\n",
    "\n",
    "We import the Gurobi Python Module and other Python libraries."
   ]
  },
  {
   "cell_type": "code",
   "execution_count": 103,
   "metadata": {
    "colab": {
     "base_uri": "https://localhost:8080/"
    },
    "id": "sB_cwjIZlUhI",
    "outputId": "f7cc0392-b9af-4871-96b6-73d5644e4fb3"
   },
   "outputs": [],
   "source": [
    "#%pip install -i https://pypi.gurobi.com gurobipy"
   ]
  },
  {
   "cell_type": "code",
   "execution_count": 1,
   "metadata": {
    "id": "yYqTuv7elPt0"
   },
   "outputs": [],
   "source": [
    "import numpy as np\n",
    "import pandas as pd\n",
    "\n",
    "import gurobipy as gp\n",
    "from gurobipy import GRB\n",
    "\n",
    "import matplotlib.pyplot as plt\n",
    "\n",
    "#tested with python 3.9 Gurobi 9.5.1"
   ]
  },
  {
   "cell_type": "markdown",
   "metadata": {
    "id": "iv64H_f_lPt1"
   },
   "source": [
    "## Input Data\n",
    "We define all the input data of the model."
   ]
  },
  {
   "cell_type": "code",
   "execution_count": 2,
   "metadata": {
    "id": "GWX1-HJ7lPt1"
   },
   "outputs": [],
   "source": [
    "# Parameters\n",
    "\n",
    "ntypes = 3\n",
    "nperiods = 5\n",
    "maxstart0 = 5\n",
    "hydrounits = 2\n",
    "Nscen      = 300\n",
    "\n",
    "generators = [12, 10, 5]\n",
    "period_hours = [6, 3, 6, 3, 6]\n",
    "\n",
    "# Average of the random demand\n",
    "demand = [15000, 30000, 25000, 40000, 27000]\n",
    "\n",
    "min_load = [850, 1250, 1500]\n",
    "max_load = [2000, 1750, 4000]\n",
    "base_cost = [1000, 2600, 3000]\n",
    "per_mw_cost = [2, 1.3, 3]\n",
    "startup_cost = [2000, 1000, 500]\n",
    "\n",
    "hydro_load = [900, 1400]\n",
    "hydro_cost = [90, 150]\n",
    "hydro_height_reduction = [0.31, 0.47]\n",
    "hydro_startup_cost = [1500, 1200]"
   ]
  },
  {
   "cell_type": "markdown",
   "metadata": {
    "id": "jUu6PZF6lPt1"
   },
   "source": [
    "## Deterministic Model\n",
    "\n",
    "We create a model and the variables. For each time period, we have: \n",
    "* an integer decision variable to capture the number of active \n",
    "generators of each type (ngen), \n",
    "* an integer variable to capture the number of generators of each type we must start (nstart), \n",
    "*a continuous decision variable to capture the total power output for each generator type (output), \n",
    "* a binary decision variable that indicates whether a hydro unit is active (hydro), \n",
    "* a binary decision variable that indicates whether a hydro unit must be started (hydrstart), \n",
    "* a continuous decision variable that captures the amount of enery used to replenish the reservoir (pumping), and \n",
    "* **a** continuous decision variable that captures the height of the reservoir (height)."
   ]
  },
  {
   "cell_type": "code",
   "execution_count": 3,
   "metadata": {
    "id": "aSthuTURlPt2"
   },
   "outputs": [
    {
     "name": "stdout",
     "output_type": "stream",
     "text": [
      "Restricted license - for non-production use only - expires 2023-10-25\n"
     ]
    }
   ],
   "source": [
    "model = gp.Model('DeterministicUC')\n",
    "\n",
    "ngen = model.addVars(ntypes, nperiods, vtype=GRB.INTEGER, name=\"ngen\")\n",
    "nstart = model.addVars(ntypes, nperiods, vtype=GRB.INTEGER, name=\"nstart\")\n",
    "output = model.addVars(ntypes, nperiods, vtype=GRB.CONTINUOUS, name=\"genoutput\")\n",
    "\n",
    "hydro = model.addVars(hydrounits, nperiods, vtype=GRB.BINARY, name=\"hydro\")\n",
    "hydrostart = model.addVars(hydrounits, nperiods, vtype=GRB.BINARY, name=\"hydrostart\")\n",
    "pumping = model.addVars(nperiods, vtype=GRB.CONTINUOUS, name=\"pumping\")\n",
    "height = model.addVars(nperiods, vtype=GRB.CONTINUOUS, name=\"height\")"
   ]
  },
  {
   "cell_type": "markdown",
   "metadata": {
    "id": "EcHsBRSY_SUi"
   },
   "source": [
    "---\n",
    "### Objective\n",
    "Minimize total cost. Cost consists of five components: the cost for running active thermal generation units, the cost to generate power beyond the minimum for each unit, the cost to start up thermal generation units, the cost to operate hydro units, and the cost to start up hydro units."
   ]
  },
  {
   "cell_type": "code",
   "execution_count": 4,
   "metadata": {
    "id": "mv2XkWNq_eVe"
   },
   "outputs": [],
   "source": [
    "# Objective: minimize total cost\n",
    "\n",
    "active = gp.quicksum(base_cost[type]*period_hours[period]*ngen[type,period]\n",
    "                    for type in range(ntypes) for period in range(nperiods))\n",
    "\n",
    "per_mw = gp.quicksum(per_mw_cost[type]*period_hours[period]*(output[type,period] - min_load[type]*ngen[type,period])\n",
    "                       for type in range(ntypes) for period in range(nperiods))\n",
    "\n",
    "startup_obj = gp.quicksum(startup_cost[type]*nstart[type,period]\n",
    "                         for type in range(ntypes) for period in range(nperiods))\n",
    "\n",
    "hydro_active = gp.quicksum(hydro_cost[unit]*period_hours[period]*hydro[unit,period]\n",
    "                           for unit in range(hydrounits) for period in range(nperiods))\n",
    "\n",
    "hydro_startup = gp.quicksum(hydro_startup_cost[unit]*hydrostart[unit,period]\n",
    "                            for unit in range(hydrounits) for period in range(nperiods))\n",
    "\n",
    "model.setObjective(active + per_mw + startup_obj + hydro_active + hydro_startup)"
   ]
  },
  {
   "cell_type": "markdown",
   "metadata": {
    "id": "ZGbiTPH9lPt3"
   },
   "source": [
    "---\n",
    "### Constraints\n",
    "Next we insert the constraints:\n",
    "\n",
    "* SetCons \\#1. The number of active generators can't exceed the number of generators:"
   ]
  },
  {
   "cell_type": "code",
   "execution_count": 5,
   "metadata": {
    "id": "bzprckDhlPt3"
   },
   "outputs": [],
   "source": [
    "# Generator count\n",
    "\n",
    "numgen = model.addConstrs(ngen[type, period] <= generators[type]\n",
    "                         for type in range(ntypes) for period in range(nperiods))"
   ]
  },
  {
   "cell_type": "markdown",
   "metadata": {
    "id": "0GxeupNGlPt3"
   },
   "source": [
    "* SetCons \\#2. Total power output for a thermal generator type depends on the number of generators of that type that are active."
   ]
  },
  {
   "cell_type": "code",
   "execution_count": 6,
   "metadata": {
    "id": "5l1s3ywTlPt3"
   },
   "outputs": [],
   "source": [
    "# Respect minimum and maximum output per generator type\n",
    "\n",
    "min_output = model.addConstrs((output[type, period] >= min_load[type] * ngen[type, period])\n",
    "                              for type in range(ntypes) for period in range(nperiods))\n",
    "\n",
    "max_output = model.addConstrs((output[type, period] <= max_load[type] * ngen[type, period])\n",
    "                              for type in range(ntypes) for period in range(nperiods))"
   ]
  },
  {
   "cell_type": "markdown",
   "metadata": {
    "id": "wazpeRpjlPt5"
   },
   "source": [
    "* SetCons \\#3. Connect the decision variables that capture active thermal generators with the decision variables that count startups."
   ]
  },
  {
   "cell_type": "code",
   "execution_count": 7,
   "metadata": {
    "id": "uBJvslAQlPt5"
   },
   "outputs": [],
   "source": [
    "# Startup constraint\n",
    "\n",
    "startup0 = model.addConstrs((ngen[type,0] <= maxstart0 + nstart[type,0])\n",
    "                            for type in range(ntypes))\n",
    "\n",
    "startup = model.addConstrs((ngen[type,period] <= ngen[type,period-1] + nstart[type,period])\n",
    "                           for type in range(ntypes) for period in range(1,nperiods))"
   ]
  },
  {
   "cell_type": "markdown",
   "metadata": {
    "id": "LjN2UPS6lPt5"
   },
   "source": [
    "* SetCons \\#4. Connect hydro decision variables with hydro startup decision variables."
   ]
  },
  {
   "cell_type": "code",
   "execution_count": 8,
   "metadata": {
    "id": "F3mVCrMplPt6"
   },
   "outputs": [],
   "source": [
    "# Hydro startup constraint\n",
    "\n",
    "hydro_startup0 = model.addConstrs((hydro[unit,0] <= hydrostart[unit,0])\n",
    "                                    for unit in range(hydrounits))\n",
    "\n",
    "hydro_startup = model.addConstrs((hydro[unit,period] <= hydro[unit,period-1] + hydrostart[unit,period])\n",
    "                           for unit in range(hydrounits) for period in range(1,nperiods))"
   ]
  },
  {
   "cell_type": "markdown",
   "metadata": {
    "id": "15zCshHt-3qv"
   },
   "source": [
    "* SetCons \\#5. Maintain appropriate reservoir levels"
   ]
  },
  {
   "cell_type": "code",
   "execution_count": 9,
   "metadata": {
    "id": "kM8o9rI0-_VZ"
   },
   "outputs": [],
   "source": [
    "# Reservoir levels\n",
    "\n",
    "reservoir = model.addConstrs(height[period] == height[period-1] + period_hours[period]*pumping[period]/3000 -\n",
    "                             gp.quicksum(hydro_height_reduction[unit]*period_hours[period]*hydro[unit,period] for unit in range(hydrounits))\n",
    "                             for period in range(1,nperiods))\n",
    "\n",
    "# cyclic - height at end must equal height at beginning\n",
    "reservoir0 = model.addConstr(height[0] == height[nperiods-1] + period_hours[0]*pumping[0]/3000 -\n",
    "                             gp.quicksum(hydro_height_reduction[unit]*period_hours[0]*hydro[unit,0]\n",
    "                             for unit in range(hydrounits)))"
   ]
  },
  {
   "cell_type": "markdown",
   "metadata": {
    "id": "itKj0ZVT8IFi"
   },
   "source": [
    "* SetCons \\#6. Total generator output (thermal plus hydro) for each time period must meet the given demand scenario plus pumping."
   ]
  },
  {
   "cell_type": "code",
   "execution_count": 10,
   "metadata": {
    "id": "6-KufKPt8OMm"
   },
   "outputs": [],
   "source": [
    "# Meet demand\n",
    "\n",
    "meet_demand = model.addConstrs(gp.quicksum(output[type, period] for type in range(ntypes)) +\n",
    "                               gp.quicksum(hydro_load[unit]*hydro[unit,period] for unit in range(hydrounits))\n",
    "                               >= demand[period] + pumping[period]\n",
    "                               for period in range(nperiods))"
   ]
  },
  {
   "cell_type": "markdown",
   "metadata": {
    "id": "6wrCdosxlPt6"
   },
   "source": [
    "---\n",
    "### Solving Deterministic Model \n",
    "Next, we start the optimization and Gurobi finds the optimal solution."
   ]
  },
  {
   "cell_type": "code",
   "execution_count": 11,
   "metadata": {
    "id": "5t8Whf9klPt7"
   },
   "outputs": [
    {
     "name": "stdout",
     "output_type": "stream",
     "text": [
      "Gurobi Optimizer version 9.5.1 build v9.5.1rc2 (win64)\n",
      "Thread count: 6 physical cores, 12 logical processors, using up to 12 threads\n",
      "Optimize a model with 80 rows, 75 columns and 200 nonzeros\n",
      "Model fingerprint: 0x1afdcda8\n",
      "Variable types: 25 continuous, 50 integer (20 binary)\n",
      "Coefficient statistics:\n",
      "  Matrix range     [1e-03, 4e+03]\n",
      "  Objective range  [4e+00, 9e+03]\n",
      "  Bounds range     [1e+00, 1e+00]\n",
      "  RHS range        [5e+00, 4e+04]\n",
      "Presolve removed 18 rows and 3 columns\n",
      "Presolve time: 0.00s\n",
      "Presolved: 62 rows, 72 columns, 179 nonzeros\n",
      "Variable types: 25 continuous, 47 integer (18 binary)\n",
      "Found heuristic solution: objective 1062020.0000\n",
      "\n",
      "Root relaxation: objective 9.985143e+05, 27 iterations, 0.00 seconds (0.00 work units)\n",
      "\n",
      "    Nodes    |    Current Node    |     Objective Bounds      |     Work\n",
      " Expl Unexpl |  Obj  Depth IntInf | Incumbent    BestBd   Gap | It/Node Time\n",
      "\n",
      "     0     0 998514.286    0    7 1062020.00 998514.286  5.98%     -    0s\n",
      "H    0     0                    1008435.0000 998514.286  0.98%     -    0s\n",
      "H    0     0                    1005720.0000 998514.286  0.72%     -    0s\n",
      "H    0     0                    1004970.0000 998514.286  0.64%     -    0s\n",
      "H    0     0                    1003447.0000 998514.286  0.49%     -    0s\n",
      "H    0     0                    1000130.0000 999455.477  0.07%     -    0s\n",
      "     0     0 999455.477    0   10 1000130.00 999455.477  0.07%     -    0s\n",
      "     0     0 1000025.71    0    7 1000130.00 1000025.71  0.01%     -    0s\n",
      "     0     0 1000025.71    0    6 1000130.00 1000025.71  0.01%     -    0s\n",
      "\n",
      "Cutting planes:\n",
      "  Gomory: 2\n",
      "  Implied bound: 1\n",
      "  MIR: 6\n",
      "\n",
      "Explored 1 nodes (58 simplex iterations) in 0.03 seconds (0.00 work units)\n",
      "Thread count was 12 (of 12 available processors)\n",
      "\n",
      "Solution count 6: 1.00013e+06 1.00345e+06 1.00497e+06 ... 1.06202e+06\n",
      "\n",
      "Optimal solution found (tolerance 1.00e-04)\n",
      "Best objective 1.000130000000e+06, best bound 1.000045744681e+06, gap 0.0084%\n",
      "\n",
      "      objVal \n",
      "------------\n",
      " 1.00013e+06 \n"
     ]
    }
   ],
   "source": [
    "model.optimize()\n",
    "model.printAttr('objVal')"
   ]
  },
  {
   "cell_type": "markdown",
   "metadata": {
    "id": "GxFa17gElPt7"
   },
   "source": [
    "---\n",
    "### Analysis\n",
    "\n",
    "The averaged demand for electricity over the 24-hour time window can be met for a total cost of $\\$1,000,130$. The detailed plan for each time period is as follows.\n",
    "\n",
    "### Unit Commitments\n",
    "\n",
    "The following table shows the number of thermal generators of each type that are active in each time period in the optimal solution:"
   ]
  },
  {
   "cell_type": "code",
   "execution_count": 12,
   "metadata": {
    "colab": {
     "base_uri": "https://localhost:8080/",
     "height": 143
    },
    "id": "6_lhE4i3lPt8",
    "outputId": "fe5904a9-8dc6-4ccc-c8d0-66f5fb076ebd"
   },
   "outputs": [
    {
     "data": {
      "text/html": [
       "<div>\n",
       "<style scoped>\n",
       "    .dataframe tbody tr th:only-of-type {\n",
       "        vertical-align: middle;\n",
       "    }\n",
       "\n",
       "    .dataframe tbody tr th {\n",
       "        vertical-align: top;\n",
       "    }\n",
       "\n",
       "    .dataframe thead th {\n",
       "        text-align: right;\n",
       "    }\n",
       "</style>\n",
       "<table border=\"1\" class=\"dataframe\">\n",
       "  <thead>\n",
       "    <tr style=\"text-align: right;\">\n",
       "      <th></th>\n",
       "      <th>0</th>\n",
       "      <th>1</th>\n",
       "      <th>2</th>\n",
       "      <th>3</th>\n",
       "      <th>4</th>\n",
       "    </tr>\n",
       "  </thead>\n",
       "  <tbody>\n",
       "    <tr>\n",
       "      <th>Thermal0</th>\n",
       "      <td>12.0</td>\n",
       "      <td>12.0</td>\n",
       "      <td>12.0</td>\n",
       "      <td>12.0</td>\n",
       "      <td>12.0</td>\n",
       "    </tr>\n",
       "    <tr>\n",
       "      <th>Thermal1</th>\n",
       "      <td>3.0</td>\n",
       "      <td>9.0</td>\n",
       "      <td>9.0</td>\n",
       "      <td>9.0</td>\n",
       "      <td>9.0</td>\n",
       "    </tr>\n",
       "    <tr>\n",
       "      <th>Thermal2</th>\n",
       "      <td>0.0</td>\n",
       "      <td>0.0</td>\n",
       "      <td>0.0</td>\n",
       "      <td>-0.0</td>\n",
       "      <td>0.0</td>\n",
       "    </tr>\n",
       "  </tbody>\n",
       "</table>\n",
       "</div>"
      ],
      "text/plain": [
       "             0     1     2     3     4\n",
       "Thermal0  12.0  12.0  12.0  12.0  12.0\n",
       "Thermal1   3.0   9.0   9.0   9.0   9.0\n",
       "Thermal2   0.0   0.0   0.0  -0.0   0.0"
      ]
     },
     "execution_count": 12,
     "metadata": {},
     "output_type": "execute_result"
    }
   ],
   "source": [
    "rows = [\"Thermal\" + str(t) for t in range(ntypes)]\n",
    "units = pd.DataFrame(columns=range(nperiods), index=rows, data=0.0)\n",
    "\n",
    "for t in range(ntypes):\n",
    "    for period in range(nperiods):\n",
    "        units.loc[\"Thermal\"+str(t), period] = ngen[t,period].x\n",
    "units"
   ]
  },
  {
   "cell_type": "markdown",
   "metadata": {
    "id": "ykVdfk2SlPt8"
   },
   "source": [
    "The following shows the number of generators of each type that must be started in each time period to achieve this plan (recall that the model assumes that 5 are available at the beginning of the time horizon):"
   ]
  },
  {
   "cell_type": "code",
   "execution_count": 13,
   "metadata": {
    "colab": {
     "base_uri": "https://localhost:8080/",
     "height": 112
    },
    "id": "XgSP9REglPt8",
    "outputId": "3a6d8447-a59f-495d-b39c-c9f069e0bc5f"
   },
   "outputs": [
    {
     "data": {
      "text/html": [
       "<div>\n",
       "<style scoped>\n",
       "    .dataframe tbody tr th:only-of-type {\n",
       "        vertical-align: middle;\n",
       "    }\n",
       "\n",
       "    .dataframe tbody tr th {\n",
       "        vertical-align: top;\n",
       "    }\n",
       "\n",
       "    .dataframe thead th {\n",
       "        text-align: right;\n",
       "    }\n",
       "</style>\n",
       "<table border=\"1\" class=\"dataframe\">\n",
       "  <thead>\n",
       "    <tr style=\"text-align: right;\">\n",
       "      <th></th>\n",
       "      <th>0</th>\n",
       "      <th>1</th>\n",
       "      <th>2</th>\n",
       "      <th>3</th>\n",
       "      <th>4</th>\n",
       "    </tr>\n",
       "  </thead>\n",
       "  <tbody>\n",
       "    <tr>\n",
       "      <th>HydroA</th>\n",
       "      <td>0.0</td>\n",
       "      <td>0.0</td>\n",
       "      <td>0.0</td>\n",
       "      <td>0.0</td>\n",
       "      <td>0.0</td>\n",
       "    </tr>\n",
       "    <tr>\n",
       "      <th>HydroB</th>\n",
       "      <td>0.0</td>\n",
       "      <td>0.0</td>\n",
       "      <td>0.0</td>\n",
       "      <td>1.0</td>\n",
       "      <td>1.0</td>\n",
       "    </tr>\n",
       "  </tbody>\n",
       "</table>\n",
       "</div>"
      ],
      "text/plain": [
       "          0    1    2    3    4\n",
       "HydroA  0.0  0.0  0.0  0.0  0.0\n",
       "HydroB  0.0  0.0  0.0  1.0  1.0"
      ]
     },
     "execution_count": 13,
     "metadata": {},
     "output_type": "execute_result"
    }
   ],
   "source": [
    "rows = [\"HydroA\", \"HydroB\"]\n",
    "hydrotable = pd.DataFrame(columns=range(nperiods), index=rows, data=0.0)\n",
    "\n",
    "for period in range(nperiods):\n",
    "    hydrotable.loc[\"HydroA\", period] = int(hydro[0,period].x)\n",
    "    hydrotable.loc[\"HydroB\", period] = int(hydro[1,period].x)\n",
    "hydrotable"
   ]
  },
  {
   "cell_type": "markdown",
   "metadata": {
    "id": "Ddf0e34ZlPt8"
   },
   "source": [
    "The hydro plants are lightly used in the schedule - we only use plant B for the last two time periods.\n",
    "\n",
    "The following shows the pumping that must be done in order to support this level of hydro activity"
   ]
  },
  {
   "cell_type": "code",
   "execution_count": 14,
   "metadata": {
    "colab": {
     "base_uri": "https://localhost:8080/",
     "height": 81
    },
    "id": "nfTYSxjolPt9",
    "outputId": "6d35e61b-56eb-4744-a090-ef2385cfb818"
   },
   "outputs": [
    {
     "data": {
      "text/html": [
       "<div>\n",
       "<style scoped>\n",
       "    .dataframe tbody tr th:only-of-type {\n",
       "        vertical-align: middle;\n",
       "    }\n",
       "\n",
       "    .dataframe tbody tr th {\n",
       "        vertical-align: top;\n",
       "    }\n",
       "\n",
       "    .dataframe thead th {\n",
       "        text-align: right;\n",
       "    }\n",
       "</style>\n",
       "<table border=\"1\" class=\"dataframe\">\n",
       "  <thead>\n",
       "    <tr style=\"text-align: right;\">\n",
       "      <th></th>\n",
       "      <th>0</th>\n",
       "      <th>1</th>\n",
       "      <th>2</th>\n",
       "      <th>3</th>\n",
       "      <th>4</th>\n",
       "    </tr>\n",
       "  </thead>\n",
       "  <tbody>\n",
       "    <tr>\n",
       "      <th>Pumping</th>\n",
       "      <td>815.0</td>\n",
       "      <td>0.0</td>\n",
       "      <td>950.0</td>\n",
       "      <td>0.0</td>\n",
       "      <td>350.0</td>\n",
       "    </tr>\n",
       "  </tbody>\n",
       "</table>\n",
       "</div>"
      ],
      "text/plain": [
       "             0    1      2    3      4\n",
       "Pumping  815.0  0.0  950.0  0.0  350.0"
      ]
     },
     "execution_count": 14,
     "metadata": {},
     "output_type": "execute_result"
    }
   ],
   "source": [
    "pumptable = pd.DataFrame(columns=range(nperiods), index=[\"Pumping\"], data=0.0)\n",
    "\n",
    "for period in range(nperiods):\n",
    "        pumptable.loc[\"Pumping\", period] = pumping[period].x\n",
    "pumptable"
   ]
  },
  {
   "cell_type": "markdown",
   "metadata": {
    "id": "u3B9Q3TflPt9"
   },
   "source": [
    "It is interesting to note that the plan simultaneously operates HydroB and pumps in time period 4.\n",
    "While it might appear that costs could be reduced by operating the hydro plant at a lower load, in this model the hydro plants have fixed output.  If it makes economic sense to turn a hydro plant on, then we have to replenish the water drained, even if it means using some of the generated electricity to pump."
   ]
  },
  {
   "cell_type": "markdown",
   "metadata": {
    "id": "AVEkpUwoLIJy"
   },
   "source": [
    "---\n",
    "## Stochastic Model\n",
    "In this section we consider a stochastic variant of the problem. We assume that the load demand is uncertain from the second period on, but follows a known probability distribution.\n",
    "\n",
    "The goal is to find an optimal set of power stations to turn on in order to satisfy the random power demand with a probability of at least $p_{level} \\in [0,1]$.\n",
    "The constraints (SetCons #6) above is replace by\n",
    "\n",
    "- **Random Demand - continuous** (SetCons \\#6'): Total power generated across all generator types must meet the random demand  plus pumping for each time period with probability $p_{level}$:\n",
    "\n",
    "\\begin{equation}\n",
    "\\mathbb{P}\\left[\\sum_{t \\in \\text{Types}}{\\text{output}_{t,p}} +\n",
    "\\sum_{h \\in \\text{HydroUnits}}{\\text{hydro_load}_h*\\text{hydro}_{h,p}} \\geq\n",
    "\\textbf{ demand}_p + \\text{pumping}_p \\quad \\forall p \\in \\text{Periods}\\right] \\geq  p_{level}\n",
    "\\end{equation}\n",
    "\n",
    "The uncertainties will be represented by $Nscen$ scenarios of demand, drawn from a\n",
    " Gaussian probability distribution with average given by the vector *demand* above, and covariace matrix: \n",
    " $$\n",
    " Cov = \\left[\n",
    "  \\begin{array}{llllllllll}\n",
    "   265000&      475000&      650000&      700000\\\\\n",
    "      475000&     1300000&      750000&     1650000\\\\\n",
    "      650000&      750000&     2500000&     2000000\\\\\n",
    "      700000&    1650000&     2000000&     4700000\n",
    "     \\end{array}\\right]\n",
    "  $$\n",
    "\n",
    "## Task 1\n",
    "\n",
    "Reformulate the above probability constraint by using $Nscen$ scenarios $\\textbf{demand}_p^{i} \\in R^5$ of demand, having probability $Pr_i$, $i=1,\\ldots,N$.\n",
    "\n",
    "## Task 2\n",
    "Write a code to generate $Nscen\\geq 1$ correlated scenarios following the stated probability distribution. Set a seed for the random number generator: use \n",
    "np.random.seed(0).\n",
    "\n",
    "(Hint: Generated $S \\in R^{Nscen \\times 4}$ from the standard normal distribution. Compute the Cholesky decomposition of $Cov = C^\\top C$. Set $Scen = demand + S\\cdot C$. Enlarge matrix $Scen$ by adding the first column with all values equal to $demand_1$.)\n",
    "\n",
    "## Task 3\n",
    "Using your code for Task 2, generate a sample of $Nscen=300$ correlated scenarios. Assign the probability $Pr_i=1/Nscen$ for every scenario.\n",
    "* a) Plot this sample. \n",
    "* b) What is the percentage of scenarios satisfied by the determinist solution?\n",
    "\n",
    "## Task 4\n",
    "Using the above sample, solve the resulting chance-constrained problem (Task 1) with probability level $p_{level}=0.9$. Compare the following outputs with those from the deterministic model: \n",
    "* a) Costs\n",
    "* b) Thermal production\n",
    "* c) hydro production\n",
    "* d) Pumping\n",
    "\n",
    "What happens when reliability is increased to $p_{level}=0.95$\n",
    "\n",
    "## Task 5 (Bonus)\n",
    "This task is optional.\n",
    "\n",
    "Generate a sample with $Nscen =1000$ scenarios. Pre-process this sample to reduce its size. Repeat Task 4 with this pre-processed sample.\n",
    "\n",
    "---"
   ]
  },
  {
   "cell_type": "markdown",
   "metadata": {},
   "source": [
    "## Task 1\n",
    "Considering the stochastic model, an other decision variable needs to be introduced:\n",
    "\n",
    " - $\\text{z}_{i} \\in [0,1]$: Indicates wether a scenario is chosen or not for i \\in \\text{[1,Nscen]}\n",
    "\n",
    "\n",
    "The constraint over the demand will change in the stockastic model, introducing the different scenario with the probability associated.\n",
    "\n",
    "- **Demand** (ChangedCons \\#6): Total power generated across all generator types must meet the random demand  plus pumping for each time period and for the scenario chosen $i$:\n",
    "\n",
    "\\begin{equation}\n",
    "\\sum_{t \\in \\text{Types}}{\\text{output}_{t,p}} +\n",
    "\\sum_{h \\in \\text{HydroUnits}}{\\text{hydro_load}_h*\\text{hydro}_{h,p}} \\geq\n",
    "\\text{z}_{i}*\\text{demand}^i_p + \\text{pumping}_p \n",
    "\\quad \\forall (p,i) \\in \\text{Periods} \\times \\text{[1,Nscen]}\n",
    "\\end{equation}\n",
    "\n",
    "- **Probability** (SetCons \\#7):  The sum of the probability scenarios chosen must be at least equals to the probability  $p_{level}$:\n",
    "\\begin{equation}\n",
    "\\sum_{i \\in \\text{[1,Nscen]}}{z_i * Pr_i} \\geq \\text{p}_{level}\n",
    "\\end{equation}\n"
   ]
  },
  {
   "cell_type": "markdown",
   "metadata": {},
   "source": [
    "## Task 2"
   ]
  },
  {
   "cell_type": "code",
   "execution_count": 15,
   "metadata": {},
   "outputs": [],
   "source": [
    "# Task 2\n",
    "#Generation of the different demand scenario put into the matrix Scen\n",
    "Nscen      = 300\n",
    "Cov = [[265000, 475000, 650000, 700000],\n",
    "       [475000, 1300000, 750000, 1650000],\n",
    "       [650000, 750000, 2500000, 2000000],\n",
    "       [700000, 1650000, 2000000, 4700000]]\n",
    "#generate the random scenario\n",
    "np.random.seed(0)\n",
    "Scen = np.random.multivariate_normal(demand[1:], Cov, Nscen)\n",
    "#add the first known demand\n",
    "premier = demand[0]*np.ones((Nscen,1))\n",
    "Scen = np.concatenate((premier,Scen), axis = 1)"
   ]
  },
  {
   "cell_type": "markdown",
   "metadata": {},
   "source": [
    "## Task 3"
   ]
  },
  {
   "cell_type": "code",
   "execution_count": 16,
   "metadata": {},
   "outputs": [
    {
     "data": {
      "text/plain": [
       "<matplotlib.legend.Legend at 0x26518298910>"
      ]
     },
     "execution_count": 16,
     "metadata": {},
     "output_type": "execute_result"
    },
    {
     "data": {
      "image/png": "[encoded data removed]",
      "text/plain": [
       "<Figure size 432x288 with 1 Axes>"
      ]
     },
     "metadata": {
      "needs_background": "light"
     },
     "output_type": "display_data"
    }
   ],
   "source": [
    "# Task 3\n",
    "#Plot of the different scenario\n",
    "plt.plot(np.transpose(Scen));\n",
    "\n",
    "#Define the total production of the determinst solution\n",
    "TotalProd = []\n",
    "for period in range(nperiods):\n",
    "    som = 0\n",
    "    for t in range(ntypes):\n",
    "        som += output[t,period].x\n",
    "    for unit in range(hydrounits):\n",
    "        som += hydro_load[unit] * hydro[unit,period].x\n",
    "    TotalProd.append(som - pumping[period].x)\n",
    "\n",
    "#Plot the determist demand\n",
    "plt.plot([0,1,2,3,4],TotalProd,'--',color = 'blue', label = 'Determinist solution')\n",
    "plt.legend()"
   ]
  },
  {
   "cell_type": "code",
   "execution_count": 17,
   "metadata": {},
   "outputs": [
    {
     "name": "stdout",
     "output_type": "stream",
     "text": [
      "The percentage of scenarios satisfied by the determinist solution is 25.0 %\n"
     ]
    }
   ],
   "source": [
    "#Calcul of the percentage\n",
    "perc = 0\n",
    "for iscen in range(Nscen):\n",
    "    j=0\n",
    "    for period in range(nperiods):\n",
    "        if TotalProd[period]>=Scen[iscen,period]:\n",
    "            j += 1\n",
    "        if j == nperiods:\n",
    "            perc += 1\n",
    "perc = 100*perc/Nscen\n",
    "    \n",
    "print(f\"The percentage of scenarios satisfied by the determinist solution is {perc} %\")"
   ]
  },
  {
   "cell_type": "markdown",
   "metadata": {},
   "source": [
    "The determist solution here is very risky since it covers only 25% of the scenarios"
   ]
  },
  {
   "cell_type": "markdown",
   "metadata": {},
   "source": [
    "## Task 4"
   ]
  },
  {
   "cell_type": "code",
   "execution_count": 18,
   "metadata": {},
   "outputs": [],
   "source": [
    "#Parameters\n",
    "#equiprobability of the scenarios\n",
    "Pr = [1/Nscen for i in range(Nscen)] \n",
    "p = 0.9"
   ]
  },
  {
   "cell_type": "code",
   "execution_count": 19,
   "metadata": {},
   "outputs": [],
   "source": [
    "#Task 4\n",
    "#Redefinition of the model\n",
    "\n",
    "#Define the new binary variable\n",
    "z = model.addVars(Nscen, vtype=GRB.BINARY, name=\"prob\")\n",
    "\n",
    "#Constraint\n",
    "#Meet demand\n",
    "meet_demand = model.addConstrs(gp.quicksum(output[type, period] for type in range(ntypes)) +\n",
    "                               gp.quicksum(hydro_load[unit]*hydro[unit,period] for unit in range(hydrounits))\n",
    "                               >= z[iscen]*Scen[iscen,period] + pumping[period]\n",
    "                               for period in range(nperiods) \n",
    "                               for iscen in range(Nscen))\n",
    "#Probability\n",
    "probability = model.addConstr((gp.quicksum(z[iscen]*Pr[iscen] for iscen in range(Nscen))) >= p )\n",
    "\n",
    "model.update()"
   ]
  },
  {
   "cell_type": "code",
   "execution_count": 20,
   "metadata": {},
   "outputs": [
    {
     "name": "stdout",
     "output_type": "stream",
     "text": [
      "Gurobi Optimizer version 9.5.1 build v9.5.1rc2 (win64)\n",
      "Thread count: 6 physical cores, 12 logical processors, using up to 12 threads\n",
      "Optimize a model with 1581 rows, 375 columns and 11000 nonzeros\n",
      "Model fingerprint: 0x7d661421\n",
      "Variable types: 25 continuous, 350 integer (320 binary)\n",
      "Coefficient statistics:\n",
      "  Matrix range     [1e-03, 4e+04]\n",
      "  Objective range  [4e+00, 9e+03]\n",
      "  Bounds range     [1e+00, 1e+00]\n",
      "  RHS range        [9e-01, 4e+04]\n",
      "\n",
      "MIP start from previous solve did not produce a new incumbent solution\n",
      "\n",
      "Presolve removed 18 rows and 3 columns\n",
      "Presolve time: 0.01s\n",
      "Presolved: 1563 rows, 372 columns, 10979 nonzeros\n",
      "Variable types: 25 continuous, 347 integer (318 binary)\n",
      "Found heuristic solution: objective 1211602.2258\n",
      "Found heuristic solution: objective 1178789.2824\n",
      "\n",
      "Root relaxation: objective 9.985143e+05, 378 iterations, 0.00 seconds (0.01 work units)\n",
      "\n",
      "    Nodes    |    Current Node    |     Objective Bounds      |     Work\n",
      " Expl Unexpl |  Obj  Depth IntInf | Incumbent    BestBd   Gap | It/Node Time\n",
      "\n",
      "     0     0 998514.286    0  213 1178789.28 998514.286  15.3%     -    0s\n",
      "H    0     0                    1107246.6716 998514.286  9.82%     -    0s\n",
      "H    0     0                    1105561.6419 998514.286  9.68%     -    0s\n",
      "H    0     0                    1098451.5348 998690.612  9.08%     -    0s\n",
      "     0     0 1044317.55    0  122 1098451.53 1044317.55  4.93%     -    0s\n",
      "H    0     0                    1094298.2345 1044317.55  4.57%     -    0s\n",
      "     0     0 1044383.08    0  117 1094298.23 1044383.08  4.56%     -    0s\n",
      "     0     0 1044731.61    0  124 1094298.23 1044731.61  4.53%     -    0s\n",
      "     0     0 1044748.27    0  119 1094298.23 1044748.27  4.53%     -    0s\n",
      "     0     0 1044769.24    0  124 1094298.23 1044769.24  4.53%     -    0s\n",
      "     0     0 1044772.21    0  119 1094298.23 1044772.21  4.53%     -    0s\n",
      "     0     0 1046504.28    0  122 1094298.23 1046504.28  4.37%     -    0s\n",
      "     0     0 1046611.31    0  122 1094298.23 1046611.31  4.36%     -    0s\n",
      "     0     0 1046625.70    0  123 1094298.23 1046625.70  4.36%     -    0s\n",
      "     0     0 1046891.99    0  123 1094298.23 1046891.99  4.33%     -    0s\n",
      "     0     0 1051862.17    0  125 1094298.23 1051862.17  3.88%     -    0s\n",
      "     0     0 1053049.35    0  119 1094298.23 1053049.35  3.77%     -    0s\n",
      "     0     0 1053244.14    0  124 1094298.23 1053244.14  3.75%     -    0s\n",
      "     0     0 1053300.02    0  124 1094298.23 1053300.02  3.75%     -    0s\n",
      "     0     0 1053306.03    0  124 1094298.23 1053306.03  3.75%     -    0s\n",
      "H    0     0                    1094139.4658 1053306.03  3.73%     -    0s\n",
      "     0     0 1057204.25    0  119 1094139.47 1057204.25  3.38%     -    0s\n",
      "     0     0 1058221.78    0  122 1094139.47 1058221.78  3.28%     -    0s\n",
      "     0     0 1058278.38    0  126 1094139.47 1058278.38  3.28%     -    0s\n",
      "     0     0 1058305.56    0  127 1094139.47 1058305.56  3.28%     -    0s\n",
      "H    0     0                    1093130.9485 1058307.48  3.19%     -    0s\n",
      "     0     0 1058307.48    0  128 1093130.95 1058307.48  3.19%     -    0s\n",
      "H    0     0                    1091630.9485 1058307.48  3.05%     -    0s\n",
      "     0     0 1058434.95    0  126 1091630.95 1058434.95  3.04%     -    0s\n",
      "     0     0 1058466.13    0  127 1091630.95 1058466.13  3.04%     -    0s\n",
      "     0     0 1058469.40    0  129 1091630.95 1058469.40  3.04%     -    0s\n",
      "     0     0 1058548.43    0  129 1091630.95 1058548.43  3.03%     -    0s\n",
      "H    0     0                    1091621.8295 1058602.37  3.02%     -    0s\n",
      "     0     0 1058602.37    0  129 1091621.83 1058602.37  3.02%     -    0s\n",
      "     0     0 1058608.15    0  131 1091621.83 1058608.15  3.02%     -    0s\n",
      "     0     0 1058695.81    0  132 1091621.83 1058695.81  3.02%     -    0s\n",
      "     0     0 1058695.81    0  132 1091621.83 1058695.81  3.02%     -    0s\n",
      "H    0     0                    1088534.3160 1058766.79  2.73%     -    0s\n",
      "     0     2 1058766.79    0  132 1088534.32 1058766.79  2.73%     -    0s\n",
      "H  278   255                    1088271.3291 1058915.06  2.70%  18.9    0s\n",
      "H  279   255                    1088098.1549 1058915.06  2.68%  18.9    0s\n",
      "H  282   255                    1087561.2803 1058915.06  2.63%  18.7    0s\n",
      "H 1283   718                    1087454.6537 1067600.78  1.83%  14.3    1s\n",
      "H 1288   685                    1084822.8991 1068157.35  1.54%  14.3    1s\n",
      "  1415   771 1079808.62   30  145 1084822.90 1076389.06  0.78%  18.4    5s\n",
      "  3377  1230 1079442.79   32  109 1084822.90 1078114.58  0.62%  45.2   10s\n",
      "  9577  2703     cutoff   44      1084822.90 1081311.33  0.32%  48.6   15s\n",
      " 22195   336 1084438.68   51   50 1084822.90 1084121.36  0.06%  44.9   20s\n",
      "\n",
      "Cutting planes:\n",
      "  Gomory: 11\n",
      "  MIR: 314\n",
      "  Flow cover: 520\n",
      "  Relax-and-lift: 1\n",
      "\n",
      "Explored 23820 nodes (1039350 simplex iterations) in 20.29 seconds (34.29 work units)\n",
      "Thread count was 12 (of 12 available processors)\n",
      "\n",
      "Solution count 10: 1.08482e+06 1.08745e+06 1.08756e+06 ... 1.09414e+06\n",
      "\n",
      "Optimal solution found (tolerance 1.00e-04)\n",
      "Best objective 1.084822899110e+06, best bound 1.084822899110e+06, gap 0.0000%\n"
     ]
    }
   ],
   "source": [
    "model.optimize()"
   ]
  },
  {
   "cell_type": "markdown",
   "metadata": {},
   "source": [
    "---\n",
    "The optimise solution for $p = 0.9$ is $1,084,822.899110€$ with $Nscen = 300 $ compared to $\\$1,000,130$ in the determinist model. This is translated by an increase of $8.47\\%$ of the price to cover $65\\%$ more scenario.\n",
    "\n",
    "The optimize solution for $p = 0.95$ is $1,096,410.292456€$ with $Nscen = 300 $. This is translated by an increase of $9.63\\%$ for covering $70\\%$ more scenario than the determistic solution."
   ]
  },
  {
   "cell_type": "markdown",
   "metadata": {},
   "source": [
    "---\n",
    "### Analysis\n",
    "\n",
    "The averaged demand for electricity over the 24-hour time window can be met for a total cost of $\\$1,000,130$. The detailed plan for each time period is as follows.\n",
    "\n",
    "**To note**: Some results where obtained by re-run the code with a different parameter to avoid write useless code and make the notebook more readable ( for instance: case p = 0.9 and case p=0.95)\n",
    "\n",
    "### Unit Commitments\n",
    "\n",
    "The following table shows the number of thermal generators of each type that are active in each time period in the optimal solution:"
   ]
  },
  {
   "cell_type": "code",
   "execution_count": 22,
   "metadata": {},
   "outputs": [
    {
     "data": {
      "text/html": [
       "<div>\n",
       "<style scoped>\n",
       "    .dataframe tbody tr th:only-of-type {\n",
       "        vertical-align: middle;\n",
       "    }\n",
       "\n",
       "    .dataframe tbody tr th {\n",
       "        vertical-align: top;\n",
       "    }\n",
       "\n",
       "    .dataframe thead th {\n",
       "        text-align: right;\n",
       "    }\n",
       "</style>\n",
       "<table border=\"1\" class=\"dataframe\">\n",
       "  <thead>\n",
       "    <tr style=\"text-align: right;\">\n",
       "      <th></th>\n",
       "      <th>0</th>\n",
       "      <th>1</th>\n",
       "      <th>2</th>\n",
       "      <th>3</th>\n",
       "      <th>4</th>\n",
       "    </tr>\n",
       "  </thead>\n",
       "  <tbody>\n",
       "    <tr>\n",
       "      <th>Thermal0</th>\n",
       "      <td>12.0</td>\n",
       "      <td>12.0</td>\n",
       "      <td>12.0</td>\n",
       "      <td>12.0</td>\n",
       "      <td>12.0</td>\n",
       "    </tr>\n",
       "    <tr>\n",
       "      <th>Thermal1</th>\n",
       "      <td>3.0</td>\n",
       "      <td>10.0</td>\n",
       "      <td>10.0</td>\n",
       "      <td>10.0</td>\n",
       "      <td>10.0</td>\n",
       "    </tr>\n",
       "    <tr>\n",
       "      <th>Thermal2</th>\n",
       "      <td>-0.0</td>\n",
       "      <td>-0.0</td>\n",
       "      <td>-0.0</td>\n",
       "      <td>1.0</td>\n",
       "      <td>-0.0</td>\n",
       "    </tr>\n",
       "  </tbody>\n",
       "</table>\n",
       "</div>"
      ],
      "text/plain": [
       "             0     1     2     3     4\n",
       "Thermal0  12.0  12.0  12.0  12.0  12.0\n",
       "Thermal1   3.0  10.0  10.0  10.0  10.0\n",
       "Thermal2  -0.0  -0.0  -0.0   1.0  -0.0"
      ]
     },
     "execution_count": 22,
     "metadata": {},
     "output_type": "execute_result"
    }
   ],
   "source": [
    "rows = [\"Thermal\" + str(t) for t in range(ntypes)]\n",
    "units = pd.DataFrame(columns=range(nperiods), index=rows, data=0.0)\n",
    "\n",
    "for t in range(ntypes):\n",
    "    for period in range(nperiods):\n",
    "        units.loc[\"Thermal\"+str(t), period] = ngen[t,period].x\n",
    "units"
   ]
  },
  {
   "cell_type": "code",
   "execution_count": 23,
   "metadata": {},
   "outputs": [
    {
     "data": {
      "text/html": [
       "<div>\n",
       "<style scoped>\n",
       "    .dataframe tbody tr th:only-of-type {\n",
       "        vertical-align: middle;\n",
       "    }\n",
       "\n",
       "    .dataframe tbody tr th {\n",
       "        vertical-align: top;\n",
       "    }\n",
       "\n",
       "    .dataframe thead th {\n",
       "        text-align: right;\n",
       "    }\n",
       "</style>\n",
       "<table border=\"1\" class=\"dataframe\">\n",
       "  <thead>\n",
       "    <tr style=\"text-align: right;\">\n",
       "      <th></th>\n",
       "      <th>0</th>\n",
       "      <th>1</th>\n",
       "      <th>2</th>\n",
       "      <th>3</th>\n",
       "      <th>4</th>\n",
       "    </tr>\n",
       "  </thead>\n",
       "  <tbody>\n",
       "    <tr>\n",
       "      <th>Thermal0</th>\n",
       "      <td>12.0</td>\n",
       "      <td>12.0</td>\n",
       "      <td>12.0</td>\n",
       "      <td>12.0</td>\n",
       "      <td>12.0</td>\n",
       "    </tr>\n",
       "    <tr>\n",
       "      <th>Thermal1</th>\n",
       "      <td>5.0</td>\n",
       "      <td>9.0</td>\n",
       "      <td>9.0</td>\n",
       "      <td>10.0</td>\n",
       "      <td>10.0</td>\n",
       "    </tr>\n",
       "    <tr>\n",
       "      <th>Thermal2</th>\n",
       "      <td>0.0</td>\n",
       "      <td>0.0</td>\n",
       "      <td>0.0</td>\n",
       "      <td>1.0</td>\n",
       "      <td>0.0</td>\n",
       "    </tr>\n",
       "  </tbody>\n",
       "</table>\n",
       "</div>"
      ],
      "text/plain": [
       "             0     1     2     3     4\n",
       "Thermal0  12.0  12.0  12.0  12.0  12.0\n",
       "Thermal1   5.0   9.0   9.0  10.0  10.0\n",
       "Thermal2   0.0   0.0   0.0   1.0   0.0"
      ]
     },
     "execution_count": 23,
     "metadata": {},
     "output_type": "execute_result"
    }
   ],
   "source": [
    "#Results with p = 0.95 \n",
    "thermal95 = [[12.0,12.0,12.0,12.0,12.0],\n",
    "            [5.0,9.0,9.0,10.0,10.0],\n",
    "            [0.0,0.0,0.0,1.0,0.0]]\n",
    "units2 = pd.DataFrame(columns=range(nperiods), index=rows, data=thermal95)\n",
    "\n",
    "units2"
   ]
  },
  {
   "cell_type": "markdown",
   "metadata": {},
   "source": [
    "The following shows the number of generators of each type that must be started in each time period to achieve this plan (recall that the model assumes that 5 are available at the beginning of the time horizon):"
   ]
  },
  {
   "cell_type": "code",
   "execution_count": 24,
   "metadata": {},
   "outputs": [
    {
     "data": {
      "text/html": [
       "<div>\n",
       "<style scoped>\n",
       "    .dataframe tbody tr th:only-of-type {\n",
       "        vertical-align: middle;\n",
       "    }\n",
       "\n",
       "    .dataframe tbody tr th {\n",
       "        vertical-align: top;\n",
       "    }\n",
       "\n",
       "    .dataframe thead th {\n",
       "        text-align: right;\n",
       "    }\n",
       "</style>\n",
       "<table border=\"1\" class=\"dataframe\">\n",
       "  <thead>\n",
       "    <tr style=\"text-align: right;\">\n",
       "      <th></th>\n",
       "      <th>0</th>\n",
       "      <th>1</th>\n",
       "      <th>2</th>\n",
       "      <th>3</th>\n",
       "      <th>4</th>\n",
       "    </tr>\n",
       "  </thead>\n",
       "  <tbody>\n",
       "    <tr>\n",
       "      <th>HydroA</th>\n",
       "      <td>0.0</td>\n",
       "      <td>0.0</td>\n",
       "      <td>0.0</td>\n",
       "      <td>0.0</td>\n",
       "      <td>0.0</td>\n",
       "    </tr>\n",
       "    <tr>\n",
       "      <th>HydroB</th>\n",
       "      <td>0.0</td>\n",
       "      <td>0.0</td>\n",
       "      <td>0.0</td>\n",
       "      <td>0.0</td>\n",
       "      <td>1.0</td>\n",
       "    </tr>\n",
       "  </tbody>\n",
       "</table>\n",
       "</div>"
      ],
      "text/plain": [
       "          0    1    2    3    4\n",
       "HydroA  0.0  0.0  0.0  0.0  0.0\n",
       "HydroB  0.0  0.0  0.0  0.0  1.0"
      ]
     },
     "execution_count": 24,
     "metadata": {},
     "output_type": "execute_result"
    }
   ],
   "source": [
    "rows = [\"HydroA\", \"HydroB\"]\n",
    "hydrotable = pd.DataFrame(columns=range(nperiods), index=rows, data=0.0)\n",
    "\n",
    "for period in range(nperiods):\n",
    "    hydrotable.loc[\"HydroA\", period] = int(hydro[0,period].x)\n",
    "    hydrotable.loc[\"HydroB\", period] = int(hydro[1,period].x)\n",
    "hydrotable"
   ]
  },
  {
   "cell_type": "code",
   "execution_count": 25,
   "metadata": {},
   "outputs": [
    {
     "data": {
      "text/html": [
       "<div>\n",
       "<style scoped>\n",
       "    .dataframe tbody tr th:only-of-type {\n",
       "        vertical-align: middle;\n",
       "    }\n",
       "\n",
       "    .dataframe tbody tr th {\n",
       "        vertical-align: top;\n",
       "    }\n",
       "\n",
       "    .dataframe thead th {\n",
       "        text-align: right;\n",
       "    }\n",
       "</style>\n",
       "<table border=\"1\" class=\"dataframe\">\n",
       "  <thead>\n",
       "    <tr style=\"text-align: right;\">\n",
       "      <th></th>\n",
       "      <th>0</th>\n",
       "      <th>1</th>\n",
       "      <th>2</th>\n",
       "      <th>3</th>\n",
       "      <th>4</th>\n",
       "    </tr>\n",
       "  </thead>\n",
       "  <tbody>\n",
       "    <tr>\n",
       "      <th>HydroA</th>\n",
       "      <td>0.0</td>\n",
       "      <td>0.0</td>\n",
       "      <td>0.0</td>\n",
       "      <td>0.0</td>\n",
       "      <td>0.0</td>\n",
       "    </tr>\n",
       "    <tr>\n",
       "      <th>HydroB</th>\n",
       "      <td>0.0</td>\n",
       "      <td>1.0</td>\n",
       "      <td>1.0</td>\n",
       "      <td>1.0</td>\n",
       "      <td>1.0</td>\n",
       "    </tr>\n",
       "  </tbody>\n",
       "</table>\n",
       "</div>"
      ],
      "text/plain": [
       "          0    1    2    3    4\n",
       "HydroA  0.0  0.0  0.0  0.0  0.0\n",
       "HydroB  0.0  1.0  1.0  1.0  1.0"
      ]
     },
     "execution_count": 25,
     "metadata": {},
     "output_type": "execute_result"
    }
   ],
   "source": [
    "#Results with p = 0.95 \n",
    "hydrotable95 = [[0.0,0.0,0.0,0.0,0.0],\n",
    "                [0.0,1.0,1.0,1.0,1.0]]\n",
    "hydrotable2 = pd.DataFrame(columns=range(nperiods), index=rows, data=hydrotable95)\n",
    "\n",
    "hydrotable2"
   ]
  },
  {
   "cell_type": "markdown",
   "metadata": {},
   "source": [
    "The hydro plants are globally lightly used in the schedule expet for the $ p =0.95$ - only plant B is used.\n",
    "\n",
    "The following shows the pumping that must be done in order to support this level of hydro activity."
   ]
  },
  {
   "cell_type": "code",
   "execution_count": 26,
   "metadata": {},
   "outputs": [
    {
     "data": {
      "text/html": [
       "<div>\n",
       "<style scoped>\n",
       "    .dataframe tbody tr th:only-of-type {\n",
       "        vertical-align: middle;\n",
       "    }\n",
       "\n",
       "    .dataframe tbody tr th {\n",
       "        vertical-align: top;\n",
       "    }\n",
       "\n",
       "    .dataframe thead th {\n",
       "        text-align: right;\n",
       "    }\n",
       "</style>\n",
       "<table border=\"1\" class=\"dataframe\">\n",
       "  <thead>\n",
       "    <tr style=\"text-align: right;\">\n",
       "      <th></th>\n",
       "      <th>0</th>\n",
       "      <th>1</th>\n",
       "      <th>2</th>\n",
       "      <th>3</th>\n",
       "      <th>4</th>\n",
       "    </tr>\n",
       "  </thead>\n",
       "  <tbody>\n",
       "    <tr>\n",
       "      <th>Pumping</th>\n",
       "      <td>483.011673</td>\n",
       "      <td>0.0</td>\n",
       "      <td>926.988327</td>\n",
       "      <td>0.0</td>\n",
       "      <td>0.0</td>\n",
       "    </tr>\n",
       "  </tbody>\n",
       "</table>\n",
       "</div>"
      ],
      "text/plain": [
       "                  0    1           2    3    4\n",
       "Pumping  483.011673  0.0  926.988327  0.0  0.0"
      ]
     },
     "execution_count": 26,
     "metadata": {},
     "output_type": "execute_result"
    }
   ],
   "source": [
    "pumptable = pd.DataFrame(columns=range(nperiods), index=[\"Pumping\"], data=0.0)\n",
    "\n",
    "for period in range(nperiods):\n",
    "        pumptable.loc[\"Pumping\", period] = pumping[period].x\n",
    "pumptable"
   ]
  },
  {
   "cell_type": "code",
   "execution_count": 27,
   "metadata": {},
   "outputs": [
    {
     "data": {
      "text/html": [
       "<div>\n",
       "<style scoped>\n",
       "    .dataframe tbody tr th:only-of-type {\n",
       "        vertical-align: middle;\n",
       "    }\n",
       "\n",
       "    .dataframe tbody tr th {\n",
       "        vertical-align: top;\n",
       "    }\n",
       "\n",
       "    .dataframe thead th {\n",
       "        text-align: right;\n",
       "    }\n",
       "</style>\n",
       "<table border=\"1\" class=\"dataframe\">\n",
       "  <thead>\n",
       "    <tr style=\"text-align: right;\">\n",
       "      <th></th>\n",
       "      <th>0</th>\n",
       "      <th>1</th>\n",
       "      <th>2</th>\n",
       "      <th>3</th>\n",
       "      <th>4</th>\n",
       "    </tr>\n",
       "  </thead>\n",
       "  <tbody>\n",
       "    <tr>\n",
       "      <th>Pumping</th>\n",
       "      <td>3950.0</td>\n",
       "      <td>0.0</td>\n",
       "      <td>216.266166</td>\n",
       "      <td>0.0</td>\n",
       "      <td>63.733834</td>\n",
       "    </tr>\n",
       "  </tbody>\n",
       "</table>\n",
       "</div>"
      ],
      "text/plain": [
       "              0    1           2    3          4\n",
       "Pumping  3950.0  0.0  216.266166  0.0  63.733834"
      ]
     },
     "execution_count": 27,
     "metadata": {},
     "output_type": "execute_result"
    }
   ],
   "source": [
    "#Results with p = 0.95 \n",
    "pumping95 = [[3950.0,0.0,216.266166,0.0,63.733834]]\n",
    "\n",
    "pumping2 = pd.DataFrame(columns=range(nperiods), index=[\"Pumping\"], data=pumping95)\n",
    "\n",
    "pumping2"
   ]
  },
  {
   "cell_type": "code",
   "execution_count": 47,
   "metadata": {},
   "outputs": [
    {
     "data": {
      "text/plain": [
       "<matplotlib.legend.Legend at 0x26518d534c0>"
      ]
     },
     "execution_count": 47,
     "metadata": {},
     "output_type": "execute_result"
    },
    {
     "data": {
      "image/png": "[encoded data removed]",
      "text/plain": [
       "<Figure size 432x288 with 1 Axes>"
      ]
     },
     "metadata": {
      "needs_background": "light"
     },
     "output_type": "display_data"
    }
   ],
   "source": [
    "TotalProd90 = [15000.0,30845.938188974418, 26773.01167303558, 42800.50393639502, 30754.008856745008]\n",
    "TotalProd95 = [15000.0, 31309.987461682693, 27133.733833857055, 43664.57589972583, 30754.008856745008]\n",
    "\n",
    "#plt.plot(np.transpose(Scen));\n",
    "plt.plot([0,1,2,3,4],TotalProd,'--',color = 'blue', label = 'Determinist solution')\n",
    "plt.plot([0,1,2,3,4],TotalProd90,'--',color = 'green', label = 'Stochastic solution for p=0.9')\n",
    "plt.plot([0,1,2,3,4],TotalProd95,'--',color = 'red', label = 'Stochastic solution for p=0.95')\n",
    "plt.title(\"Total production with each models for each period\")\n",
    "plt.legend()"
   ]
  },
  {
   "cell_type": "markdown",
   "metadata": {},
   "source": [
    "In the stochastic models, the thermal reactor are still used in majority. In fact there are even more used than with determinist solution. Which is interesting to see is that for a more scenario covered ($p=0.95$) the use of thermal generator is less than with $p=0.9$.\n",
    "\n",
    "This is counter by an increase of the use of hydroplants B ( the more powerful one) starting in period 1. However, the pumping is not done while the hydro plants are on for $p=0.9$, but there are with $p=0.95$ with a more important pumping when the demand is at a minimum point ( period 0 and 2)."
   ]
  },
  {
   "cell_type": "markdown",
   "metadata": {},
   "source": [
    "---\n",
    "## Task 5"
   ]
  },
  {
   "cell_type": "code",
   "execution_count": 18,
   "metadata": {},
   "outputs": [
    {
     "data": {
      "image/png": "[encoded data removed]",
      "text/plain": [
       "<Figure size 432x288 with 1 Axes>"
      ]
     },
     "metadata": {
      "needs_background": "light"
     },
     "output_type": "display_data"
    },
    {
     "name": "stdout",
     "output_type": "stream",
     "text": [
      " 228 scenarios remain over the 1000 initial ones\n"
     ]
    },
    {
     "data": {
      "image/png": "[encoded data removed]",
      "text/plain": [
       "<Figure size 432x288 with 1 Axes>"
      ]
     },
     "metadata": {
      "needs_background": "light"
     },
     "output_type": "display_data"
    }
   ],
   "source": [
    "# Task 5\n",
    "\n",
    "#Pre-processed\n",
    "#generate the random scenario\n",
    "Nscen = 1000\n",
    "p = 0.9\n",
    "np.random.seed(0)\n",
    "Scen = np.random.multivariate_normal(demand[1:], Cov, Nscen)\n",
    "#add the first known demand\n",
    "premier = demand[0]*np.ones((Nscen,1))\n",
    "Scen = np.concatenate((premier,Scen), axis = 1)\n",
    "plt.plot(np.transpose(Scen));\n",
    "\n",
    "#calcul of the quantile\n",
    "pquantile = np.zeros(nperiods)\n",
    "for period in range(nperiods):\n",
    "    pquantile[period] = np.quantile(Scen[:,period],p)\n",
    "plt.plot([0,1,2,3,4],pquantile,'--',color = 'blue', label = f\"quantile for p = {p}\")\n",
    "plt.legend()\n",
    "plt.show()\n",
    "\n",
    "#reduction of the samples\n",
    "i = 0\n",
    "Scenbis = np.copy(Scen)\n",
    "for iscen in range(Nscen):\n",
    "    j = 0\n",
    "    for period in range(nperiods):\n",
    "        if Scen[iscen,period] <= pquantile[period]:\n",
    "            j+=1\n",
    "        if j==nperiods:\n",
    "            Scenbis = np.delete(Scenbis,iscen-i, 0)\n",
    "            i+=1\n",
    "#Add the fictive scienario with a weight equals to the sum of the probabilities under it \n",
    "Scenbis = np.append(Scenbis,[pquantile], axis=0)\n",
    "Pr = [1/Nscen for n in range(Nscen-i)] + [sum([1/Nscen for j in range(i)])]\n",
    "#Plot the result\n",
    "plt.plot(np.transpose(Scenbis));\n",
    "plt.title(\"Scenarios remaining after reduction\")\n",
    "print(f\" {Nscen-i} scenarios remain over the {Nscen} initial ones\") "
   ]
  },
  {
   "cell_type": "code",
   "execution_count": 17,
   "metadata": {},
   "outputs": [
    {
     "name": "stdout",
     "output_type": "stream",
     "text": [
      "Gurobi Optimizer version 9.5.1 build v9.5.1rc2 (win64)\n",
      "Thread count: 6 physical cores, 12 logical processors, using up to 12 threads\n",
      "Optimize a model with 1226 rows, 1075 columns and 8444 nonzeros\n",
      "Model fingerprint: 0xc285ea59\n",
      "Variable types: 25 continuous, 1050 integer (1020 binary)\n",
      "Coefficient statistics:\n",
      "  Matrix range     [1e-03, 4e+04]\n",
      "  Objective range  [4e+00, 9e+03]\n",
      "  Bounds range     [1e+00, 1e+00]\n",
      "  RHS range        [9e-01, 4e+04]\n",
      "\n",
      "Warning: Completing partial solution with 1000 unfixed non-continuous variables out of 1050\n",
      "Warning: Completing partial solution with 1000 unfixed non-continuous variables out of 1050\n",
      "MIP start from previous solve did not produce a new incumbent solution\n",
      "\n",
      "Presolve removed 23 rows and 775 columns\n",
      "Presolve time: 0.01s\n",
      "Presolved: 1203 rows, 300 columns, 8387 nonzeros\n",
      "Variable types: 25 continuous, 275 integer (246 binary)\n",
      "Found heuristic solution: objective 1230451.9932\n",
      "Found heuristic solution: objective 1207955.2644\n",
      "Found heuristic solution: objective 1189893.3784\n",
      "\n",
      "Root relaxation: objective 1.065159e+06, 298 iterations, 0.00 seconds (0.01 work units)\n",
      "\n",
      "    Nodes    |    Current Node    |     Objective Bounds      |     Work\n",
      " Expl Unexpl |  Obj  Depth IntInf | Incumbent    BestBd   Gap | It/Node Time\n",
      "\n",
      "     0     0 1065159.46    0  136 1189893.38 1065159.46  10.5%     -    0s\n",
      "H    0     0                    1107967.6690 1065159.46  3.86%     -    0s\n",
      "H    0     0                    1104732.1625 1065159.46  3.58%     -    0s\n",
      "     0     0 1065511.09    0  136 1104732.16 1065511.09  3.55%     -    0s\n",
      "     0     0 1065951.67    0  138 1104732.16 1065951.67  3.51%     -    0s\n",
      "H    0     0                    1100215.6394 1068010.43  2.93%     -    0s\n",
      "H    0     0                    1093969.2386 1068010.43  2.37%     -    0s\n",
      "     0     0 1068010.43    0  204 1093969.24 1068010.43  2.37%     -    0s\n",
      "     0     0 1069082.87    0  195 1093969.24 1069082.87  2.27%     -    0s\n",
      "     0     0 1069387.84    0  194 1093969.24 1069387.84  2.25%     -    0s\n",
      "     0     0 1069681.55    0  189 1093969.24 1069681.55  2.22%     -    0s\n",
      "     0     0 1069936.79    0  178 1093969.24 1069936.79  2.20%     -    0s\n",
      "     0     0 1070148.06    0  185 1093969.24 1070148.06  2.18%     -    0s\n",
      "     0     0 1070415.70    0  174 1093969.24 1070415.70  2.15%     -    0s\n",
      "H    0     0                    1093358.1842 1070663.83  2.08%     -    0s\n",
      "     0     0 1070663.83    0  179 1093358.18 1070663.83  2.08%     -    0s\n",
      "     0     0 1070905.09    0  174 1093358.18 1070905.09  2.05%     -    0s\n",
      "     0     0 1071079.19    0  167 1093358.18 1071079.19  2.04%     -    0s\n",
      "     0     0 1071193.73    0  164 1093358.18 1071193.73  2.03%     -    0s\n",
      "     0     0 1071321.54    0  167 1093358.18 1071321.54  2.02%     -    0s\n",
      "     0     0 1071446.82    0  163 1093358.18 1071446.82  2.00%     -    0s\n",
      "     0     0 1071574.85    0  159 1093358.18 1071574.85  1.99%     -    0s\n",
      "     0     0 1071707.67    0  158 1093358.18 1071707.67  1.98%     -    0s\n",
      "H    0     0                    1092793.5881 1071800.89  1.92%     -    0s\n",
      "     0     0 1071800.89    0  157 1092793.59 1071800.89  1.92%     -    0s\n",
      "     0     0 1071939.51    0  156 1092793.59 1071939.51  1.91%     -    0s\n",
      "     0     0 1072079.38    0  153 1092793.59 1072079.38  1.90%     -    0s\n",
      "     0     0 1072163.90    0  151 1092793.59 1072163.90  1.89%     -    0s\n",
      "     0     0 1072215.29    0  151 1092793.59 1072215.29  1.88%     -    0s\n",
      "     0     0 1072252.13    0  149 1092793.59 1072252.13  1.88%     -    0s\n",
      "     0     0 1072409.94    0  146 1092793.59 1072409.94  1.87%     -    0s\n",
      "     0     0 1072569.02    0  146 1092793.59 1072569.02  1.85%     -    0s\n",
      "     0     0 1072683.68    0  144 1092793.59 1072683.68  1.84%     -    0s\n",
      "     0     0 1072852.63    0  142 1092793.59 1072852.63  1.82%     -    0s\n",
      "     0     0 1072856.19    0  141 1092793.59 1072856.19  1.82%     -    0s\n",
      "     0     0 1072935.49    0  167 1092793.59 1072935.49  1.82%     -    0s\n",
      "     0     0 1073009.57    0  186 1092793.59 1073009.57  1.81%     -    0s\n",
      "     0     0 1073044.82    0  168 1092793.59 1073044.82  1.81%     -    0s\n",
      "     0     0 1073061.40    0  166 1092793.59 1073061.40  1.81%     -    0s\n",
      "     0     0 1073099.34    0  174 1092793.59 1073099.34  1.80%     -    0s\n",
      "     0     0 1073133.19    0  169 1092793.59 1073133.19  1.80%     -    0s\n",
      "     0     0 1073150.51    0  168 1092793.59 1073150.51  1.80%     -    0s\n",
      "     0     0 1073188.63    0  169 1092793.59 1073188.63  1.79%     -    0s\n",
      "     0     0 1073204.98    0  174 1092793.59 1073204.98  1.79%     -    0s\n",
      "     0     0 1073227.98    0  169 1092793.59 1073227.98  1.79%     -    0s\n",
      "     0     0 1073232.48    0  170 1092793.59 1073232.48  1.79%     -    0s\n",
      "     0     0 1073235.18    0  169 1092793.59 1073235.18  1.79%     -    0s\n",
      "     0     0 1074676.74    0  187 1092793.59 1074676.74  1.66%     -    0s\n",
      "H    0     0                    1091847.9074 1074676.74  1.57%     -    0s\n",
      "     0     0 1074939.89    0  198 1091847.91 1074939.89  1.55%     -    0s\n",
      "     0     0 1074984.15    0  217 1091847.91 1074984.15  1.54%     -    0s\n",
      "     0     0 1074994.87    0  209 1091847.91 1074994.87  1.54%     -    0s\n",
      "H    0     0                    1091625.9161 1075017.89  1.52%     -    0s\n",
      "     0     0 1075017.89    0  201 1091625.92 1075017.89  1.52%     -    0s\n",
      "     0     0 1075027.89    0  204 1091625.92 1075027.89  1.52%     -    0s\n",
      "     0     0 1075029.08    0  217 1091625.92 1075029.08  1.52%     -    0s\n",
      "H    0     0                    1088612.5180 1075029.08  1.25%     -    0s\n",
      "     0     0 1075589.40    0  185 1088612.52 1075589.40  1.20%     -    0s\n",
      "H    0     0                    1088252.5180 1075589.40  1.16%     -    0s\n",
      "     0     0 1076076.94    0  189 1088252.52 1076076.94  1.12%     -    0s\n",
      "     0     0 1076149.34    0  188 1088252.52 1076149.34  1.11%     -    0s\n",
      "     0     0 1076183.39    0  193 1088252.52 1076183.39  1.11%     -    0s\n",
      "     0     0 1076212.28    0  191 1088252.52 1076212.28  1.11%     -    0s\n",
      "     0     0 1076212.66    0  191 1088252.52 1076212.66  1.11%     -    0s\n",
      "     0     0 1076382.73    0  193 1088252.52 1076382.73  1.09%     -    0s\n",
      "     0     0 1076444.31    0  186 1088252.52 1076444.31  1.09%     -    0s\n",
      "     0     0 1076471.54    0  185 1088252.52 1076471.54  1.08%     -    0s\n",
      "     0     0 1076506.52    0  192 1088252.52 1076506.52  1.08%     -    0s\n",
      "     0     0 1076518.29    0  193 1088252.52 1076518.29  1.08%     -    0s\n",
      "     0     0 1076529.27    0  192 1088252.52 1076529.27  1.08%     -    0s\n",
      "     0     0 1076529.69    0  193 1088252.52 1076529.69  1.08%     -    0s\n",
      "     0     0 1076760.74    0  188 1088252.52 1076760.74  1.06%     -    0s\n",
      "     0     0 1076885.85    0  185 1088252.52 1076885.85  1.04%     -    0s\n",
      "     0     0 1076903.89    0  188 1088252.52 1076903.89  1.04%     -    0s\n",
      "     0     0 1076923.23    0  192 1088252.52 1076923.23  1.04%     -    0s\n",
      "     0     0 1076940.28    0  194 1088252.52 1076940.28  1.04%     -    0s\n",
      "     0     0 1076941.11    0  194 1088252.52 1076941.11  1.04%     -    0s\n",
      "     0     0 1077113.54    0  193 1088252.52 1077113.54  1.02%     -    0s\n",
      "     0     0 1077183.62    0  191 1088252.52 1077183.62  1.02%     -    0s\n",
      "     0     0 1077204.66    0  191 1088252.52 1077204.66  1.02%     -    0s\n",
      "     0     0 1077218.77    0  191 1088252.52 1077218.77  1.01%     -    0s\n",
      "     0     0 1077220.24    0  191 1088252.52 1077220.24  1.01%     -    0s\n",
      "     0     0 1077428.02    0  195 1088252.52 1077428.02  0.99%     -    0s\n",
      "     0     0 1077496.58    0  194 1088252.52 1077496.58  0.99%     -    0s\n",
      "     0     0 1077531.39    0  195 1088252.52 1077531.39  0.99%     -    0s\n",
      "     0     0 1077573.60    0  194 1088252.52 1077573.60  0.98%     -    0s\n",
      "     0     0 1077587.78    0  197 1088252.52 1077587.78  0.98%     -    0s\n",
      "     0     0 1077602.23    0  194 1088252.52 1077602.23  0.98%     -    0s\n",
      "     0     0 1077606.32    0  198 1088252.52 1077606.32  0.98%     -    0s\n",
      "     0     0 1077724.10    0  197 1088252.52 1077724.10  0.97%     -    0s\n",
      "     0     0 1077787.42    0  193 1088252.52 1077787.42  0.96%     -    0s\n",
      "     0     0 1077846.68    0  188 1088252.52 1077846.68  0.96%     -    0s\n",
      "     0     0 1077880.14    0  195 1088252.52 1077880.14  0.95%     -    0s\n",
      "     0     0 1077891.52    0  197 1088252.52 1077891.52  0.95%     -    0s\n",
      "     0     0 1077898.73    0  189 1088252.52 1077898.73  0.95%     -    0s\n",
      "     0     0 1077904.81    0  193 1088252.52 1077904.81  0.95%     -    0s\n",
      "     0     0 1077906.76    0  198 1088252.52 1077906.76  0.95%     -    0s\n",
      "     0     0 1078019.10    0  183 1088252.52 1078019.10  0.94%     -    0s\n",
      "     0     0 1078070.62    0  193 1088252.52 1078070.62  0.94%     -    0s\n",
      "     0     0 1078091.19    0  192 1088252.52 1078091.19  0.93%     -    0s\n",
      "     0     0 1078117.97    0  189 1088252.52 1078117.97  0.93%     -    0s\n",
      "     0     0 1078126.95    0  184 1088252.52 1078126.95  0.93%     -    0s\n",
      "     0     0 1078129.06    0  188 1088252.52 1078129.06  0.93%     -    0s\n",
      "     0     0 1078267.43    0  188 1088252.52 1078267.43  0.92%     -    0s\n",
      "     0     0 1078272.52    0  193 1088252.52 1078272.52  0.92%     -    0s\n",
      "     0     0 1078342.26    0  180 1088252.52 1078342.26  0.91%     -    0s\n",
      "     0     0 1078379.34    0  183 1088252.52 1078379.34  0.91%     -    0s\n",
      "     0     0 1078407.85    0  189 1088252.52 1078407.85  0.90%     -    0s\n",
      "     0     0 1078413.69    0  188 1088252.52 1078413.69  0.90%     -    0s\n",
      "     0     0 1078433.02    0  190 1088252.52 1078433.02  0.90%     -    0s\n",
      "     0     0 1078473.32    0  180 1088252.52 1078473.32  0.90%     -    0s\n",
      "     0     0 1078484.26    0  190 1088252.52 1078484.26  0.90%     -    0s\n",
      "     0     0 1078489.65    0  190 1088252.52 1078489.65  0.90%     -    0s\n",
      "     0     0 1078538.24    0  190 1088252.52 1078538.24  0.89%     -    0s\n",
      "     0     0 1078614.18    0  184 1088252.52 1078614.18  0.89%     -    0s\n",
      "     0     0 1078627.64    0  190 1088252.52 1078627.64  0.88%     -    0s\n",
      "     0     0 1078631.23    0  191 1088252.52 1078631.23  0.88%     -    0s\n",
      "     0     0 1078705.37    0  183 1088252.52 1078705.37  0.88%     -    0s\n",
      "     0     0 1078770.67    0  195 1088252.52 1078770.67  0.87%     -    0s\n",
      "     0     0 1078784.85    0  198 1088252.52 1078784.85  0.87%     -    0s\n",
      "     0     0 1078806.59    0  204 1088252.52 1078806.59  0.87%     -    0s\n",
      "     0     0 1078816.06    0  206 1088252.52 1078816.06  0.87%     -    0s\n",
      "     0     0 1078823.68    0  203 1088252.52 1078823.68  0.87%     -    0s\n",
      "     0     0 1078828.98    0  201 1088252.52 1078828.98  0.87%     -    0s\n",
      "     0     0 1078879.04    0  204 1088252.52 1078879.04  0.86%     -    0s\n",
      "     0     0 1078887.62    0  203 1088252.52 1078887.62  0.86%     -    0s\n",
      "     0     0 1078894.62    0  207 1088252.52 1078894.62  0.86%     -    0s\n",
      "     0     0 1078919.72    0  207 1088252.52 1078919.72  0.86%     -    0s\n",
      "     0     0 1078926.87    0  207 1088252.52 1078926.87  0.86%     -    0s\n",
      "     0     0 1078942.15    0  207 1088252.52 1078942.15  0.86%     -    1s\n",
      "     0     0 1078943.36    0  206 1088252.52 1078943.36  0.86%     -    1s\n",
      "     0     0 1079036.86    0  189 1088252.52 1079036.86  0.85%     -    1s\n",
      "     0     0 1079074.27    0  197 1088252.52 1079074.27  0.84%     -    1s\n",
      "     0     0 1079088.56    0  204 1088252.52 1079088.56  0.84%     -    1s\n",
      "     0     0 1079102.91    0  203 1088252.52 1079102.91  0.84%     -    1s\n",
      "     0     0 1079117.46    0  203 1088252.52 1079117.46  0.84%     -    1s\n",
      "     0     0 1079123.44    0  204 1088252.52 1079123.44  0.84%     -    1s\n",
      "     0     0 1079181.27    0  190 1088252.52 1079181.27  0.83%     -    1s\n",
      "     0     0 1079221.05    0  203 1088252.52 1079221.05  0.83%     -    1s\n",
      "     0     0 1079246.06    0  191 1088252.52 1079246.06  0.83%     -    1s\n",
      "     0     0 1079248.48    0  192 1088252.52 1079248.48  0.83%     -    1s\n",
      "     0     0 1079276.97    0  191 1088252.52 1079276.97  0.82%     -    1s\n",
      "     0     0 1079281.61    0  194 1088252.52 1079281.61  0.82%     -    1s\n",
      "     0     0 1079285.08    0  195 1088252.52 1079285.08  0.82%     -    1s\n",
      "     0     0 1079285.08    0  194 1088252.52 1079285.08  0.82%     -    1s\n",
      "H    0     0                    1087534.8569 1079285.08  0.76%     -    1s\n",
      "     0     2 1079285.08    0  194 1087534.86 1079285.08  0.76%     -    1s\n",
      "  1481   887 1086047.23   56  172 1087534.86 1083150.85  0.40%  14.2    5s\n",
      "  1797  1023 1083840.68   30  144 1087534.86 1083782.43  0.35%  34.9   10s\n",
      "H 1800   972                    1087366.8190 1083782.85  0.33%  34.8   10s\n",
      "  5960  2696 1087329.55   65   54 1087366.82 1084268.58  0.28%  64.1   15s\n",
      " 13384  7275     cutoff   35      1087366.82 1084661.75  0.25%  70.4   20s\n",
      " 19442 10520 1085438.37   39  165 1087366.82 1084831.44  0.23%  73.2   25s\n",
      " 27384 14989     cutoff   71      1087366.82 1085004.83  0.22%  75.1   30s\n",
      " 34209 17892 1086084.21   57  109 1087366.82 1085113.03  0.21%  75.9   40s\n",
      " 35815 18769 1087088.69   75  194 1087366.82 1085146.36  0.20%  75.7   51s\n",
      " 35914 18835 1087029.53   60  180 1087366.82 1085146.36  0.20%  75.5   55s\n",
      " 35985 18882 1086108.13   49  178 1087366.82 1085146.36  0.20%  75.4   60s\n",
      " 36042 18920 1086023.15   48  188 1087366.82 1085146.36  0.20%  75.3   65s\n",
      " 36097 18957 1086236.26   55  184 1087366.82 1085146.36  0.20%  75.1   70s\n",
      " 36348 19069 1086902.07   39  162 1087366.82 1085146.36  0.20%  75.9   75s\n",
      " 41259 20228 1086080.03   39  147 1087366.82 1085422.39  0.18%  76.9   80s\n",
      " 46174 20597     cutoff   63      1087366.82 1085837.64  0.14%  79.0   85s\n",
      " 50361 20348 1087229.95   39  152 1087366.82 1086113.03  0.12%  80.8   90s\n",
      " 54132 19624 1087111.36   55  109 1087366.82 1086316.50  0.10%  82.0   95s\n",
      " 58840 17902     cutoff   54      1087366.82 1086555.07  0.07%  82.8  100s\n",
      " 63699 15094     cutoff   61      1087366.82 1086774.42  0.05%  82.6  105s\n",
      " 69246 10591     cutoff   49      1087366.82 1087009.38  0.03%  81.2  110s\n",
      "\n",
      "Cutting planes:\n",
      "  Gomory: 9\n",
      "  Implied bound: 4\n",
      "  MIR: 733\n",
      "  Flow cover: 960\n",
      "  Relax-and-lift: 40\n",
      "\n",
      "Explored 73679 nodes (5834213 simplex iterations) in 112.33 seconds (208.07 work units)\n",
      "Thread count was 12 (of 12 available processors)\n",
      "\n",
      "Solution count 10: 1.08737e+06 1.08753e+06 1.08825e+06 ... 1.10473e+06\n",
      "\n",
      "Optimal solution found (tolerance 1.00e-04)\n",
      "Best objective 1.087366818975e+06, best bound 1.087264812774e+06, gap 0.0094%\n"
     ]
    }
   ],
   "source": [
    "# Apply the model to the reduced samples\n",
    "#Ajouter z binaire\n",
    "#z = model.addVars(Nscen, vtype=GRB.BINARY, name=\"prob\")\n",
    "#Meet demand\n",
    "meet_demand = model.addConstrs(gp.quicksum(output[type, period] for type in range(ntypes)) +\n",
    "                               gp.quicksum(hydro_load[unit]*hydro[unit,period] for unit in range(hydrounits))\n",
    "                               >= z[iscen]*Scenbis[iscen,period] + pumping[period]\n",
    "                               for period in range(nperiods) \n",
    "                               for iscen in range(Nscen-i+1))\n",
    "#Probability\n",
    "probability = model.addConstr((gp.quicksum(z[iscen]*Pr[iscen] for iscen in range(Nscen-i+1))) >= p )\n",
    "model.update()\n",
    "model.optimize()"
   ]
  },
  {
   "cell_type": "markdown",
   "metadata": {},
   "source": [
    "---\n",
    "\n",
    "The optimized solution for $p = 0.9$ is $1,087,366.818975$€ with $Nscen = 1000$ reduced to $229$ compared to solution found for $Nscen=300$: $1,084,822.899110€$. This gives a ratio of $1.002345$ showing that the results obtained with less scenario is consistent.\n",
    "\n",
    "The optimized solution for $p = 0.95$ with $Nscen = 1000$ reduced to $125$ is out of ranged for the size-limited version. But as just said before, it seems that $300$ scenarios are enough for this modelization. However, one has to keep in mind that the result could be different with a different probability level and it is not enough to conclude that the results obtained with $Nscen=300$ is acceptable."
   ]
  },
  {
   "cell_type": "markdown",
   "metadata": {
    "id": "SxPw2cO5lPt9"
   },
   "source": [
    "---\n",
    "## References\n",
    "\n",
    "H. Paul Williams, Model Building in Mathematical Programming, fifth edition.\n",
    "\n",
    "W. de Oliveira, Cours Mines28 semaine PSL. Slides at www.oliveira.mat.br/teaching \n"
   ]
  }
 ],
 "metadata": {
  "colab": {
   "collapsed_sections": [
    "EcHsBRSY_SUi",
    "SxPw2cO5lPt9"
   ],
   "name": "ChanceConstraiend-UC.ipynb",
   "provenance": [],
   "toc_visible": true
  },
  "kernelspec": {
   "display_name": "Python 3 (ipykernel)",
   "language": "python",
   "name": "python3"
  },
  "language_info": {
   "codemirror_mode": {
    "name": "ipython",
    "version": 3
   },
   "file_extension": ".py",
   "mimetype": "text/x-python",
   "name": "python",
   "nbconvert_exporter": "python",
   "pygments_lexer": "ipython3",
   "version": "3.9.7"
  }
 },
 "nbformat": 4,
 "nbformat_minor": 4
}
